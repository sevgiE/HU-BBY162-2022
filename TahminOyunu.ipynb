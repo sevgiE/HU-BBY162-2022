{
  "nbformat": 4,
  "nbformat_minor": 0,
  "metadata": {
    "colab": {
      "name": "Untitled10.ipynb",
      "provenance": [],
      "authorship_tag": "ABX9TyOD4eSowcWFNmA8GOdl0epI",
      "include_colab_link": true
    },
    "kernelspec": {
      "name": "python3",
      "display_name": "Python 3"
    },
    "language_info": {
      "name": "python"
    }
  },
  "cells": [
    {
      "cell_type": "markdown",
      "metadata": {
        "id": "view-in-github",
        "colab_type": "text"
      },
      "source": [
        "<a href=\"https://colab.research.google.com/github/sevgiE/HU-BBY162-2022/blob/main/TahminOyunu.ipynb\" target=\"_parent\"><img src=\"https://colab.research.google.com/assets/colab-badge.svg\" alt=\"Open In Colab\"/></a>"
      ]
    },
    {
      "cell_type": "code",
      "execution_count": null,
      "metadata": {
        "colab": {
          "base_uri": "https://localhost:8080/"
        },
        "id": "3jQ34so8OqUZ",
        "outputId": "e1b56301-999d-49e9-a420-e1270b1ec87e"
      },
      "outputs": [
        {
          "output_type": "stream",
          "name": "stdout",
          "text": [
            "Karada Yaşayan Hayvanlardan Tahminde Bulununuz! \n",
            "1.Tahmininizi giriniz: ayı\n",
            "Doğru cevap, puanınız: 1\n",
            "2.Tahmininizi giriniz: hamsi\n",
            "Doğru cevap, puanınız: 2\n"
          ]
        }
      ],
      "source": [
        "print(\"Karada Yaşayan Hayvanlardan Tahminde Bulununuz! \")\n",
        "lıste = [\"hamsi\",\"ayı\",\"kurbağa\",\"kedi\",\"köpek\",\"tilki\",\"kartal\"]\n",
        "puan = 0\n",
        "for i in range(5):\n",
        "  tahmin = input(str(i+1) + \".Tahmininizi giriniz: \")\n",
        "  if tahmin in lıste:\n",
        "    puan +=1\n",
        "    print(\"Doğru cevap, puanınız: \" + str(puan))\n",
        "  else:\n",
        "    print(\"Yanlış cevap\")\n",
        "print(\"Toplam puanınız \" + str(puan))"
      ]
    }
  ]
}