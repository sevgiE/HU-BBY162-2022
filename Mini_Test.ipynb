{
  "nbformat": 4,
  "nbformat_minor": 0,
  "metadata": {
    "colab": {
      "name": "Untitled1.ipynb",
      "provenance": [],
      "collapsed_sections": [],
      "authorship_tag": "ABX9TyNo6N1NQWcKiSulizCPKgXs",
      "include_colab_link": true
    },
    "kernelspec": {
      "name": "python3",
      "display_name": "Python 3"
    },
    "language_info": {
      "name": "python"
    }
  },
  "cells": [
    {
      "cell_type": "markdown",
      "metadata": {
        "id": "view-in-github",
        "colab_type": "text"
      },
      "source": [
        "<a href=\"https://colab.research.google.com/github/sevgiE/HU-BBY162-2022/blob/main/Mini_Test.ipynb\" target=\"_parent\"><img src=\"https://colab.research.google.com/assets/colab-badge.svg\" alt=\"Open In Colab\"/></a>"
      ]
    },
    {
      "cell_type": "code",
      "execution_count": 6,
      "metadata": {
        "colab": {
          "base_uri": "https://localhost:8080/"
        },
        "id": "TpvNnc3yOJh7",
        "outputId": "08aede75-17da-4b55-e124-5767635e6be0"
      },
      "outputs": [
        {
          "output_type": "stream",
          "name": "stdout",
          "text": [
            "Mini teste hoş geldiniz!\n",
            "Cevaplarınızı d veya y olarak giriniz.\n",
            "BAŞARILAR!\n",
            "1.SORU Renk körü olan insanlar bazı renkleri ayırt edemezler.\n",
            "Cevabınız: d\n",
            "Doğru bildiniz! Renk körü olan insanlar bazı renkleri ayırt edemezler.\n",
            "2.SORU İneklerin 2 ayağı bulunur.\n",
            "Cevabınız: d\n",
            "Yanlış cevap! İneklerin 2 ayağı bulunmaz, İneklerin 4 ayağı bulunur.\n",
            "3.SORU Çekinik gen a ile gösterilir\n",
            "Cevabınız: d\n",
            "Doğru bildiniz! Çekinik gen a ile gösterilir.\n",
            "4.SORU Baskın gen A ile gösterilir.\n",
            "Cevabınız: d\n",
            "Doğru bildiniz! Baskın gen A ile gösterilir.\n",
            "5.SORU Kıvırcıklık geni baskın bir gendir.\n",
            "Cevabınız: d\n",
            "Doğru bildiniz! Kıvırcıklık geni baskın bir gendir.\n",
            "TEBRİKLER!\n",
            "4\n"
          ]
        }
      ],
      "source": [
        "#Mini Test\n",
        "\n",
        "print(\"Mini teste hoş geldiniz!\")\n",
        "print(\"Cevaplarınızı d veya y olarak giriniz.\")\n",
        "print(\"BAŞARILAR!\")\n",
        "\n",
        "puan = 0\n",
        "\n",
        "sorular = [\"Renk körü olan insanlar bazı renkleri ayırt edemezler.\", \"İneklerin 2 ayağı bulunur.\",\"Çekinik gen a ile gösterilir\", \"Baskın gen A ile gösterilir.\", \"Kıvırcıklık geni baskın bir gendir.\"]\n",
        "cevaplar = [\"d\", \"y\", \"d\", \"d\", \"d\"]\n",
        "\n",
        "print(\"1.SORU \" + sorular[0])\n",
        "cevap = input(\"Cevabınız: \")\n",
        "if cevap == cevaplar[0]:\n",
        "  print(\"Doğru bildiniz! Renk körü olan insanlar bazı renkleri ayırt edemezler.\")\n",
        "  puan += 1\n",
        "else :\n",
        "  print(\"Yanlış cevap!\")\n",
        "\n",
        "print(\"2.SORU \" + sorular[1])\n",
        "cevap = input(\"Cevabınız: \")\n",
        "if cevap == cevaplar[1]:\n",
        "  print(\"Doğru bildiniz!,ineklerin 2 ayağı bulunur.\")\n",
        "  puan += 1\n",
        "else:\n",
        "  print(\"Yanlış cevap! İneklerin 2 ayağı bulunmaz, İneklerin 4 ayağı bulunur.\")\n",
        "\n",
        "print(\"3.SORU \" + sorular[2])\n",
        "cevap = input(\"Cevabınız: \")\n",
        "if cevap == cevaplar[2]:\n",
        "  print(\"Doğru bildiniz! Çekinik gen a ile gösterilir.\")\n",
        "  puan += 1\n",
        "else:\n",
        "  print(\"Yanlış cevap!\")\n",
        "\n",
        "print(\"4.SORU \" + sorular[3])\n",
        "cevap = input(\"Cevabınız: \")\n",
        "if cevap == cevaplar[3]:\n",
        "  print(\"Doğru bildiniz! Baskın gen A ile gösterilir.\")\n",
        "  puan += 1\n",
        "else:\n",
        "  print(\"Yanlış cevap!\")\n",
        "\n",
        "print(\"5.SORU \" + sorular[4])\n",
        "cevap = input(\"Cevabınız: \")\n",
        "if cevap == cevaplar[4]:\n",
        "  print(\"Doğru bildiniz! Kıvırcıklık geni baskın bir gendir.\")\n",
        "  puan += 1\n",
        "else:\n",
        "  print(\"Yanlış cevap!\")\n",
        "\n",
        "\n",
        "if puan >= 4:\n",
        "  print(\"TEBRİKLER!\")\n",
        "else:\n",
        "  print(\"Daha fazla çalışmalısın!\")\n",
        "\n",
        "print(puan)\n",
        "\n"
      ]
    }
  ]
}