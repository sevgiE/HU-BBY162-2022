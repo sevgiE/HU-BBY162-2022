{
  "nbformat": 4,
  "nbformat_minor": 0,
  "metadata": {
    "colab": {
      "name": "Untitled12.ipynb",
      "provenance": [],
      "collapsed_sections": [],
      "authorship_tag": "ABX9TyMCvVxguofr9HGmi/lsqpeb",
      "include_colab_link": true
    },
    "kernelspec": {
      "name": "python3",
      "display_name": "Python 3"
    },
    "language_info": {
      "name": "python"
    }
  },
  "cells": [
    {
      "cell_type": "markdown",
      "metadata": {
        "id": "view-in-github",
        "colab_type": "text"
      },
      "source": [
        "<a href=\"https://colab.research.google.com/github/sevgiE/HU-BBY162-2022/blob/main/AnahtarKelimeler.ipynb\" target=\"_parent\"><img src=\"https://colab.research.google.com/assets/colab-badge.svg\" alt=\"Open In Colab\"/></a>"
      ]
    },
    {
      "cell_type": "code",
      "execution_count": 1,
      "metadata": {
        "colab": {
          "base_uri": "https://localhost:8080/"
        },
        "id": "Px49Z_I7QbVJ",
        "outputId": "0dfba422-b80a-4b94-d2a0-bf2e344e15ce"
      },
      "outputs": [
        {
          "output_type": "stream",
          "name": "stdout",
          "text": [
            "{'koray': 'k', 'Bihter': 'b', 'Sevgi': 'i'}\n",
            "İsmi giriniz: koray\n",
            "Koray\n",
            "Adlar bölümünde bu isim var mı? =  True\n"
          ]
        }
      ],
      "source": [
        "adlar={\"koray\": \"k\", \"Bihter\" : \"b\", \"Sevgi\": \"i\"} \n",
        "print(adlar)\n",
        "arama = input(\"İsmi giriniz: \")\n",
        "arama = arama.capitalize()\n",
        "print(arama)\n",
        "kontrolEt=(\"koray\" in adlar.keys())\n",
        "print(\"Adlar bölümünde bu isim var mı? =  \" + str(kontrolEt))"
      ]
    }
  ]
}