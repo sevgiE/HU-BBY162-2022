[ ]
#@title Varsayılan başlık metni
#sozluk
#Sözlük oluşturma
sozluk = {"kedidili":"tatlı","kedi":"hayvan","dil":"organ"}
print(sozluk)

arama= input("Kelimeyi giriniz: ")
arama= arama.lower()
print(arama)


{'kedidili': 'tatlı', 'kedi': 'hayvan', 'dil': 'organ'}
Kelimeyi giriniz: kedi
kedi
Sözlükte bu kelime var mı? - True
hayvan
