{
  "nbformat": 4,
  "nbformat_minor": 0,
  "metadata": {
    "colab": {
      "name": "Untitled0.ipynb",
      "provenance": [],
      "authorship_tag": "ABX9TyOEQn2Pe4/Cui4SnOGSjeu6",
      "include_colab_link": true
    },
    "kernelspec": {
      "name": "python3",
      "display_name": "Python 3"
    },
    "language_info": {
      "name": "python"
    }
  },
  "cells": [
    {
      "cell_type": "markdown",
      "metadata": {
        "id": "view-in-github",
        "colab_type": "text"
      },
      "source": [
        "<a href=\"https://colab.research.google.com/github/sevgiE/HU-BBY162-2022/blob/main/Untitled0.ipynb\" target=\"_parent\"><img src=\"https://colab.research.google.com/assets/colab-badge.svg\" alt=\"Open In Colab\"/></a>"
      ]
    },
    {
      "cell_type": "code",
      "execution_count": null,
      "metadata": {
        "id": "bBJb_Ib7HryF",
        "outputId": "a457d0e4-c81c-42b1-84e3-b5972598b27a",
        "colab": {
          "base_uri": "https://localhost:8080/"
        }
      },
      "outputs": [
        {
          "output_type": "stream",
          "name": "stdout",
          "text": [
            "{'kedidili': 'tatlı', 'kedi': 'hayvan', 'dil': 'organ'}\n",
            "Kelimeyi giriniz: dil\n",
            "dil\n",
            "Sözlükte bu kelime var mı? - True\n",
            "organ\n"
          ]
        }
      ],
      "source": [
        "#sozluk\n",
        "\n",
        "\n",
        "#sozluk\n",
        "#Sözlük oluşturma\n",
        "sozluk = {\"kedidili\":\"tatlı\",\"kedi\":\"hayvan\",\"dil\":\"organ\"}\n",
        "print(sozluk)\n",
        "\n",
        "arama= input(\"Kelimeyi giriniz: \")\n",
        "arama= arama.lower()\n",
        "print(arama)\n",
        "\n",
        "kontrol = arama in sozluk.keys()\n",
        "print(\"Sözlükte bu kelime var mı? - \" + str(kontrol))\n",
        "print(sozluk[arama])\n"
      ]
    }
  ]
}
