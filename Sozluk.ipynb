#@title Varsayılan başlık metni
#sozluk
#Sözlük oluşturma
sozluk = {"kedidili":"tatlı","kedi":"hayvan","dil":"organ"}
print(sozluk)

arama= input("Kelimeyi giriniz: ")
arama= arama.lower()
print(arama)

kontrol = arama in sozluk.keys()
print("Sözlükte bu kelime var mı? - " + str(kontrol))
print(sozluk[arama])
