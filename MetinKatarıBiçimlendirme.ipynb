{
  "nbformat": 4,
  "nbformat_minor": 0,
  "metadata": {
    "colab": {
      "name": "Untitled9.ipynb",
      "provenance": [],
      "authorship_tag": "ABX9TyNxNZors67mkdIur2g5R+U7",
      "include_colab_link": true
    },
    "kernelspec": {
      "name": "python3",
      "display_name": "Python 3"
    },
    "language_info": {
      "name": "python"
    }
  },
  "cells": [
    {
      "cell_type": "markdown",
      "metadata": {
        "id": "view-in-github",
        "colab_type": "text"
      },
      "source": [
        "<a href=\"https://colab.research.google.com/github/sevgiE/HU-BBY162-2022/blob/main/MetinKatar%C4%B1Bi%C3%A7imlendirme.ipynb\" target=\"_parent\"><img src=\"https://colab.research.google.com/assets/colab-badge.svg\" alt=\"Open In Colab\"/></a>"
      ]
    },
    {
      "cell_type": "code",
      "execution_count": 1,
      "metadata": {
        "colab": {
          "base_uri": "https://localhost:8080/"
        },
        "id": "QGsgD7tFNyjb",
        "outputId": "12e87100-08a6-467f-afcf-aaf89450fbc6"
      },
      "outputs": [
        {
          "output_type": "stream",
          "name": "stdout",
          "text": [
            "Merhaba, benim adım Sevgi, soyadım Eğri. Ben 21 yaşındayım. Ben Hacettepe Üniversitesinde okuyorum. Pyhton öğreniyoruz.\n"
          ]
        }
      ],
      "source": [
        "ad = \"Sevgi\"\n",
        "soyad = \"Eğri\"\n",
        "yas = 21\n",
        "okul = \"Hacettepe Üniversitesi\"\n",
        "ders = \"Pyhton\"\n",
        "print(\"Merhaba, benim adım %s, soyadım %s. Ben %d yaşındayım. Ben %snde okuyorum. %s öğreniyoruz.\" % (ad, soyad, yas, okul, ders))"
      ]
    }
  ]
}