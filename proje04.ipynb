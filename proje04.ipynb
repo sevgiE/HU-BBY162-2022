{
  "nbformat": 4,
  "nbformat_minor": 0,
  "metadata": {
    "colab": {
      "name": "Untitled19.ipynb",
      "provenance": [],
      "authorship_tag": "ABX9TyMtOs1z91h9UuE75XQZewu2",
      "include_colab_link": true
    },
    "kernelspec": {
      "name": "python3",
      "display_name": "Python 3"
    },
    "language_info": {
      "name": "python"
    }
  },
  "cells": [
    {
      "cell_type": "markdown",
      "metadata": {
        "id": "view-in-github",
        "colab_type": "text"
      },
      "source": [
        "<a href=\"https://colab.research.google.com/github/sevgiE/HU-BBY162-2022/blob/main/proje04.ipynb\" target=\"_parent\"><img src=\"https://colab.research.google.com/assets/colab-badge.svg\" alt=\"Open In Colab\"/></a>"
      ]
    },
    {
      "cell_type": "code",
      "execution_count": null,
      "metadata": {
        "id": "P5Mta8sTiu-i"
      },
      "outputs": [],
      "source": [
        "\n",
        "\n",
        "\n",
        "\n",
        "\n",
        "\n",
        "\n",
        "#KÜTÜPHANE KATALOĞU\n",
        "dosyaGidis = \"/content/drive/MyDrive/Colab Notebooks/veritabani.txt\"\n",
        "koleksiyon = []\n",
        "\n",
        "isim = input(\"Merhabalar, lütfen isminizi yazınız.\")\n",
        "print(\"Kataloğumuza hoş geldiniz \" + isim)\n",
        "\n",
        "def kayıtlarListeleme():\n",
        "  dosya = open(dosyaGidis, \"r\")\n",
        "  for line in dosya.readlines():\n",
        "    print(line)\n",
        "    dosya.close()\n",
        "\n",
        "def yeniKayitEkle():\n",
        "  kitapAdi = input(\"Kitap adını yazınız: \")\n",
        "  yazarAdi = input(\"Yazar adını yazınız: \")\n",
        "  basimYili = input(\"Basım yılını yazınız: \")\n",
        "  yayinevi = input(\"Yayınevini yazınız: \")\n",
        "  veri = open(dosyaGidis, \"a\")\n",
        "  veri.write(kitapAdi + \"|\"+ yazarAdi + \"|\" + basimYili + \"|\"+yayinevi +\"\\n\")\n",
        "  veri.close()\n",
        "   \n",
        "def kayitAra():\n",
        "  mevcut = False\n",
        "  veri = open(dosyaGidis, \"r\")\n",
        "  for line in veri.readlines():\n",
        "    koleksiyon.append(line)\n",
        "    veri.close()\n",
        "\n",
        "  print(koleksiyon)\n",
        "\n",
        "  ara = input('Aramak istediğiniz kitap adını yazınız: ').capitalize()\n",
        "  i = 0\n",
        "  for kit in koleksiyon:\n",
        "    if ara in kit:\n",
        "      #print('Elimizde kitap mevcuttur')\n",
        "      mevcut = True\n",
        "      break\n",
        "    i += 1\n",
        "\n",
        "  if mevcut == True:\n",
        "    print(\"\\nElimizde kitap mevcuttur\")\n",
        "    print(koleksiyon[i])\n",
        "  else:\n",
        "    print(\"\\nElimizde kitap mevcut değildir\")\n",
        "    "
      ]
    }
  ]
}