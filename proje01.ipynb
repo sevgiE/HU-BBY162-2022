{
  "nbformat": 4,
  "nbformat_minor": 0,
  "metadata": {
    "colab": {
      "name": "proje01.ipynb",
      "provenance": [],
      "collapsed_sections": [],
      "include_colab_link": true
    },
    "kernelspec": {
      "name": "python3",
      "display_name": "Python 3"
    },
    "language_info": {
      "name": "python"
    }
  },
  "cells": [
    {
      "cell_type": "markdown",
      "metadata": {
        "id": "view-in-github",
        "colab_type": "text"
      },
      "source": [
        "<a href=\"https://colab.research.google.com/github/sevgiE/HU-BBY162-2022/blob/main/proje01.ipynb\" target=\"_parent\"><img src=\"https://colab.research.google.com/assets/colab-badge.svg\" alt=\"Open In Colab\"/></a>"
      ]
    },
    {
      "cell_type": "code",
      "execution_count": null,
      "metadata": {
        "colab": {
          "base_uri": "https://localhost:8080/"
        },
        "id": "mtkReQGPQJZR",
        "outputId": "c4297ddf-9883-40d7-c460-32c1bf2b888d"
      },
      "outputs": [
        {
          "output_type": "stream",
          "name": "stdout",
          "text": [
            "İndeks numarasını giriniz:salam\n",
            "İndeks dışı giriş..!\n"
          ]
        }
      ],
      "source": [
        "liste = [\"tavşan\",\"marul\",\"leopar\",\"salam\",\"demir\",\"tahta\"]\n",
        "secim = input(\"İndeks numarasını giriniz:\")\n",
        "\n",
        "if secim. isdigit():\n",
        "  secim = int(secim)\n",
        "  listeToplam = len(liste)\n",
        "  if secim < listeToplam:\n",
        "    print(liste[secim])\n",
        "   \n",
        "else:\n",
        "   print(\"İndeks dışı giriş..!\")"
      ]
    },
    {
      "cell_type": "code",
      "source": [
        ""
      ],
      "metadata": {
        "id": "X-BnSf4kunfJ"
      },
      "execution_count": null,
      "outputs": []
    }
  ]
}