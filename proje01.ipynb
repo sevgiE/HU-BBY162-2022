{
  "nbformat": 4,
  "nbformat_minor": 0,
  "metadata": {
    "colab": {
      "name": "Untitled2.ipynb",
      "provenance": [],
      "collapsed_sections": [],
      "authorship_tag": "ABX9TyObn73Doqrk2KF0UmxHxVJL",
      "include_colab_link": true
    },
    "kernelspec": {
      "name": "python3",
      "display_name": "Python 3"
    },
    "language_info": {
      "name": "python"
    }
  },
  "cells": [
    {
      "cell_type": "markdown",
      "metadata": {
        "id": "view-in-github",
        "colab_type": "text"
      },
      "source": [
        "<a href=\"https://colab.research.google.com/github/sevgiE/HU-BBY162-2022/blob/main/proje01.ipynb\" target=\"_parent\"><img src=\"https://colab.research.google.com/assets/colab-badge.svg\" alt=\"Open In Colab\"/></a>"
      ]
    },
    {
      "cell_type": "code",
      "execution_count": 3,
      "metadata": {
        "colab": {
          "base_uri": "https://localhost:8080/"
        },
        "id": "mtkReQGPQJZR",
        "outputId": "b3a93b7b-8ad4-472c-a296-ca9647183da2"
      },
      "outputs": [
        {
          "output_type": "stream",
          "name": "stdout",
          "text": [
            "İndeks numarasını giriniz: 3\n",
            "Bir sayı girdiniz!\n",
            "salam\n"
          ]
        }
      ],
      "source": [
        "liste = [\"tavşan\", \"marul\", \"leopar\", \"salam\", \"demir\", \"tahta\"]\n",
        "while True:\n",
        "  try:\n",
        "    secim = int(input(\"İndeks numarasını giriniz: \"))     \n",
        "  except ValueError:\n",
        "     print(\"Lütfen bir sayı giriniz!\")\n",
        "     continue\n",
        "  else:\n",
        "     print(\"Bir sayı girdiniz!\")\n",
        "     break   \n",
        "listeToplam = len(liste)\n",
        "\n",
        "if secim < listeToplam:\n",
        " print(liste[secim])\n",
        "else:\n",
        "  print(\"İndeks dışı giriş yapıldı!\")"
      ]
    }
  ]
}